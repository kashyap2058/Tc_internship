{
 "cells": [
  {
   "cell_type": "markdown",
   "id": "70f75783",
   "metadata": {},
   "source": [
    "# Precision"
   ]
  },
  {
   "cell_type": "markdown",
   "id": "7629cabf",
   "metadata": {},
   "source": [
    "Precision is the number of true positives divided by the number of true positives plus the number of false positives. False positives are cases the model incorrectly labels as positive that are actually negative. So, precision actually gives the rate in which the classes predicted by a model as true is actually true.<br>High precision means that the model precisely predicts a class or a label."
   ]
  },
  {
   "cell_type": "markdown",
   "id": "5ee2723b",
   "metadata": {},
   "source": [
    "Precision can be calculated as:<br>\n",
    "    Precision=(Tp/(Tp+Fp))"
   ]
  },
  {
   "cell_type": "markdown",
   "id": "ea8f6004",
   "metadata": {},
   "source": [
    "# Recall"
   ]
  },
  {
   "cell_type": "markdown",
   "id": "5682ed19",
   "metadata": {},
   "source": [
    " The ability of a model to find all the relevant cases within a data set. Mathematically, we define recall as the number of true positives divided by the number of true positives plus the number of false negatives. So, recall gives us the rate or ratio in which the model predicts the true label in the dataset as true. "
   ]
  },
  {
   "cell_type": "markdown",
   "id": "37085766",
   "metadata": {},
   "source": [
    "Recall can be calculated as:<br>\n",
    "    Recall=(Tp/(Tp+Fn))"
   ]
  },
  {
   "cell_type": "markdown",
   "id": "43c3c015",
   "metadata": {},
   "source": [
    "# F1 score"
   ]
  },
  {
   "cell_type": "markdown",
   "id": "7d22fe09",
   "metadata": {},
   "source": [
    "The aggrigated value of precision and recall is given by F1 score. <br>\n",
    "Mathematically,<br>\n",
    "F1=(2\\*precision\\*recall)/(Precision+recall)"
   ]
  },
  {
   "cell_type": "markdown",
   "id": "185234e2",
   "metadata": {},
   "source": [
    "## When to Prioritize Precision\n",
    "You should prioritize precision when the cost of false positives is high. Here are some scenarios where precision is more important:\n",
    "\n",
    "1) Spam Detection: In email spam detection, a false positive (marking a legitimate email as spam) can cause important emails to be missed. Here, it's crucial to ensure that when the model flags an email as spam, it is very likely to be spam.\n",
    "\n",
    "2) Fraud Detection: In financial fraud detection, false positives (flagging legitimate transactions as fraudulent) can inconvenience customers and erode trust. High precision ensures that flagged transactions are more likely to be truly fraudulent.\n",
    "\n",
    "3) Medical Diagnosis: In some medical tests, like cancer screening, a false positive can lead to unnecessary stress, further tests, and procedures for the patient. Ensuring that positive test results are accurate (high precision) is critical."
   ]
  },
  {
   "cell_type": "markdown",
   "id": "ed07cb08",
   "metadata": {},
   "source": [
    "## When to Prioritize Recall\n",
    "Recall, on the other hand, should be prioritized when the cost of false negatives is high. Scenarios where recall is more important include:\n",
    "\n",
    "1) Medical Diagnosis: For conditions where missing a positive case is life-threatening (e.g., screening for a rare but deadly disease), high recall ensures that most, if not all, actual cases are identified.\n",
    "\n",
    "2) Safety-Critical Systems: In systems where missing a positive instance can lead to catastrophic failure or danger (e.g., fire detection, security threat detection), recall is crucial.\n",
    "\n",
    "3) Search Engines and Information Retrieval: When users search for information, recall is important to ensure that they get as many relevant results as possible. Missing out on relevant results (false negatives) can reduce the system's utility."
   ]
  },
  {
   "cell_type": "markdown",
   "id": "8214fea6",
   "metadata": {},
   "source": [
    "\n",
    "### To balance both precision and recall we use F1-score"
   ]
  }
 ],
 "metadata": {
  "kernelspec": {
   "display_name": "Python 3 (ipykernel)",
   "language": "python",
   "name": "python3"
  },
  "language_info": {
   "codemirror_mode": {
    "name": "ipython",
    "version": 3
   },
   "file_extension": ".py",
   "mimetype": "text/x-python",
   "name": "python",
   "nbconvert_exporter": "python",
   "pygments_lexer": "ipython3",
   "version": "3.10.9"
  }
 },
 "nbformat": 4,
 "nbformat_minor": 5
}
